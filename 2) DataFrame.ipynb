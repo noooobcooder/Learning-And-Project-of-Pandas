{
 "cells": [
  {
   "cell_type": "code",
   "execution_count": null,
   "id": "ae2d273c-74a5-4161-b199-783feea61a33",
   "metadata": {},
   "outputs": [],
   "source": [
    "# Why dataframe is important:\n",
    "# 1 --> Structure: It's perfect for handling structured data.You can  easily store \n",
    "#          information like names, ages, and cities together in a clean, organized format.\n",
    "# 2--> Analysis:  It provides powerful tools for cleaning, transforming, and analyzing data.\n",
    "#          You can filter data, handle missing values, and combine different datasets with just\n",
    "#          a few lines of code.\n",
    "# 3--> Flexibility: Each column in a DataFrame is a Pandas Series, but the DataFrame\n",
    "#          allows you to manage all of them together, making complex data manipulation \n",
    "#          tasks simple and efficient."
   ]
  },
  {
   "cell_type": "code",
   "execution_count": 103,
   "id": "697117f2-ad58-44c7-93d0-6ce01999b286",
   "metadata": {},
   "outputs": [],
   "source": [
    "import numpy as np\n",
    "import pandas as pd"
   ]
  },
  {
   "cell_type": "code",
   "execution_count": 34,
   "id": "ebcceda1-e385-4390-8345-7ef984d4e109",
   "metadata": {},
   "outputs": [],
   "source": [
    "# Creating A DataFrame"
   ]
  },
  {
   "cell_type": "code",
   "execution_count": 104,
   "id": "06739888-f931-4b72-8c0f-945e41b37abb",
   "metadata": {},
   "outputs": [],
   "source": [
    "# From a Dictionary (using lists)\n",
    "data = {\n",
    "    'Name': ['Cena', 'Meena', 'Teena', 'Reena'],\n",
    "    'Age': [18, 19, 25, 30],\n",
    "    'City': ['Pune', 'Mumbai', 'Nashik', 'Satana'],\n",
    "    'Salary': [50000, 55000, 60000, 65000]\n",
    "}\n",
    "df = pd.DataFrame(data)"
   ]
  },
  {
   "cell_type": "code",
   "execution_count": 105,
   "id": "a682b9d3-6e2b-4aa9-838f-57ee7d77f850",
   "metadata": {},
   "outputs": [
    {
     "data": {
      "text/html": [
       "<div>\n",
       "<style scoped>\n",
       "    .dataframe tbody tr th:only-of-type {\n",
       "        vertical-align: middle;\n",
       "    }\n",
       "\n",
       "    .dataframe tbody tr th {\n",
       "        vertical-align: top;\n",
       "    }\n",
       "\n",
       "    .dataframe thead th {\n",
       "        text-align: right;\n",
       "    }\n",
       "</style>\n",
       "<table border=\"1\" class=\"dataframe\">\n",
       "  <thead>\n",
       "    <tr style=\"text-align: right;\">\n",
       "      <th></th>\n",
       "      <th>Name</th>\n",
       "      <th>Age</th>\n",
       "      <th>City</th>\n",
       "      <th>Salary</th>\n",
       "    </tr>\n",
       "  </thead>\n",
       "  <tbody>\n",
       "    <tr>\n",
       "      <th>0</th>\n",
       "      <td>Cena</td>\n",
       "      <td>18</td>\n",
       "      <td>Pune</td>\n",
       "      <td>50000</td>\n",
       "    </tr>\n",
       "    <tr>\n",
       "      <th>1</th>\n",
       "      <td>Meena</td>\n",
       "      <td>19</td>\n",
       "      <td>Mumbai</td>\n",
       "      <td>55000</td>\n",
       "    </tr>\n",
       "    <tr>\n",
       "      <th>2</th>\n",
       "      <td>Teena</td>\n",
       "      <td>25</td>\n",
       "      <td>Nashik</td>\n",
       "      <td>60000</td>\n",
       "    </tr>\n",
       "    <tr>\n",
       "      <th>3</th>\n",
       "      <td>Reena</td>\n",
       "      <td>30</td>\n",
       "      <td>Satana</td>\n",
       "      <td>65000</td>\n",
       "    </tr>\n",
       "  </tbody>\n",
       "</table>\n",
       "</div>"
      ],
      "text/plain": [
       "    Name  Age    City  Salary\n",
       "0   Cena   18    Pune   50000\n",
       "1  Meena   19  Mumbai   55000\n",
       "2  Teena   25  Nashik   60000\n",
       "3  Reena   30  Satana   65000"
      ]
     },
     "execution_count": 105,
     "metadata": {},
     "output_type": "execute_result"
    }
   ],
   "source": [
    "df"
   ]
  },
  {
   "cell_type": "code",
   "execution_count": 106,
   "id": "108b267b-ec9e-46de-935b-de5440ab91c8",
   "metadata": {},
   "outputs": [],
   "source": [
    "# from a List of Dictionaries\n",
    "data_list = [\n",
    "      ['Cena', 18, 'Pune', 50000], \n",
    "      ['Meena', 19, 'Mumbai', 55000],  \n",
    "      ['Teena', 25, 'Nashik', 60000],\n",
    "      ['Reena', 30,'Satana', 65000]\n",
    "]\n",
    "df2 = pd.DataFrame(data_list)"
   ]
  },
  {
   "cell_type": "code",
   "execution_count": 107,
   "id": "be4e7e55-9520-4a45-a3bc-a0a1ef3a7a58",
   "metadata": {},
   "outputs": [
    {
     "data": {
      "text/html": [
       "<div>\n",
       "<style scoped>\n",
       "    .dataframe tbody tr th:only-of-type {\n",
       "        vertical-align: middle;\n",
       "    }\n",
       "\n",
       "    .dataframe tbody tr th {\n",
       "        vertical-align: top;\n",
       "    }\n",
       "\n",
       "    .dataframe thead th {\n",
       "        text-align: right;\n",
       "    }\n",
       "</style>\n",
       "<table border=\"1\" class=\"dataframe\">\n",
       "  <thead>\n",
       "    <tr style=\"text-align: right;\">\n",
       "      <th></th>\n",
       "      <th>0</th>\n",
       "      <th>1</th>\n",
       "      <th>2</th>\n",
       "      <th>3</th>\n",
       "    </tr>\n",
       "  </thead>\n",
       "  <tbody>\n",
       "    <tr>\n",
       "      <th>0</th>\n",
       "      <td>Cena</td>\n",
       "      <td>18</td>\n",
       "      <td>Pune</td>\n",
       "      <td>50000</td>\n",
       "    </tr>\n",
       "    <tr>\n",
       "      <th>1</th>\n",
       "      <td>Meena</td>\n",
       "      <td>19</td>\n",
       "      <td>Mumbai</td>\n",
       "      <td>55000</td>\n",
       "    </tr>\n",
       "    <tr>\n",
       "      <th>2</th>\n",
       "      <td>Teena</td>\n",
       "      <td>25</td>\n",
       "      <td>Nashik</td>\n",
       "      <td>60000</td>\n",
       "    </tr>\n",
       "    <tr>\n",
       "      <th>3</th>\n",
       "      <td>Reena</td>\n",
       "      <td>30</td>\n",
       "      <td>Satana</td>\n",
       "      <td>65000</td>\n",
       "    </tr>\n",
       "  </tbody>\n",
       "</table>\n",
       "</div>"
      ],
      "text/plain": [
       "       0   1       2      3\n",
       "0   Cena  18    Pune  50000\n",
       "1  Meena  19  Mumbai  55000\n",
       "2  Teena  25  Nashik  60000\n",
       "3  Reena  30  Satana  65000"
      ]
     },
     "execution_count": 107,
     "metadata": {},
     "output_type": "execute_result"
    }
   ],
   "source": [
    "df2"
   ]
  },
  {
   "cell_type": "code",
   "execution_count": null,
   "id": "b934b078-d64b-4a85-bddb-917a994e00ce",
   "metadata": {},
   "outputs": [],
   "source": [
    "# We can create a dataframe using a list also . but we have to set columns manually."
   ]
  },
  {
   "cell_type": "code",
   "execution_count": 108,
   "id": "e5127f65-17cd-4705-a12c-2eec23678184",
   "metadata": {},
   "outputs": [
    {
     "data": {
      "text/html": [
       "<div>\n",
       "<style scoped>\n",
       "    .dataframe tbody tr th:only-of-type {\n",
       "        vertical-align: middle;\n",
       "    }\n",
       "\n",
       "    .dataframe tbody tr th {\n",
       "        vertical-align: top;\n",
       "    }\n",
       "\n",
       "    .dataframe thead th {\n",
       "        text-align: right;\n",
       "    }\n",
       "</style>\n",
       "<table border=\"1\" class=\"dataframe\">\n",
       "  <thead>\n",
       "    <tr style=\"text-align: right;\">\n",
       "      <th></th>\n",
       "      <th>Name</th>\n",
       "      <th>Age</th>\n",
       "      <th>City</th>\n",
       "      <th>Salary</th>\n",
       "    </tr>\n",
       "  </thead>\n",
       "  <tbody>\n",
       "    <tr>\n",
       "      <th>0</th>\n",
       "      <td>Cena</td>\n",
       "      <td>18</td>\n",
       "      <td>Pune</td>\n",
       "      <td>50000</td>\n",
       "    </tr>\n",
       "    <tr>\n",
       "      <th>1</th>\n",
       "      <td>Meena</td>\n",
       "      <td>19</td>\n",
       "      <td>Mumbai</td>\n",
       "      <td>55000</td>\n",
       "    </tr>\n",
       "    <tr>\n",
       "      <th>2</th>\n",
       "      <td>Teena</td>\n",
       "      <td>25</td>\n",
       "      <td>Nashik</td>\n",
       "      <td>60000</td>\n",
       "    </tr>\n",
       "    <tr>\n",
       "      <th>3</th>\n",
       "      <td>Reena</td>\n",
       "      <td>30</td>\n",
       "      <td>Satana</td>\n",
       "      <td>65000</td>\n",
       "    </tr>\n",
       "  </tbody>\n",
       "</table>\n",
       "</div>"
      ],
      "text/plain": [
       "    Name  Age    City  Salary\n",
       "0   Cena   18    Pune   50000\n",
       "1  Meena   19  Mumbai   55000\n",
       "2  Teena   25  Nashik   60000\n",
       "3  Reena   30  Satana   65000"
      ]
     },
     "execution_count": 108,
     "metadata": {},
     "output_type": "execute_result"
    }
   ],
   "source": [
    "data_list = [\n",
    "      ['Cena', 18, 'Pune', 50000], \n",
    "      ['Meena', 19, 'Mumbai', 55000],  \n",
    "      ['Teena', 25, 'Nashik', 60000],\n",
    "      ['Reena', 30,'Satana', 65000]\n",
    "]\n",
    "df2 = pd.DataFrame(data_list)\n",
    "columns = [\"Name\", \"Age\", \"City\", \"Salary\"]\n",
    "df2 = pd.DataFrame(data_list,columns = columns)\n",
    "df2"
   ]
  },
  {
   "cell_type": "code",
   "execution_count": 15,
   "id": "347bb630-3f56-4b34-be06-1b4d61c9355b",
   "metadata": {},
   "outputs": [],
   "source": [
    "# Selection ANd Indexing of Columns"
   ]
  },
  {
   "cell_type": "code",
   "execution_count": 109,
   "id": "be5d7596-465b-498a-bf9d-87426b93d3f0",
   "metadata": {},
   "outputs": [
    {
     "data": {
      "text/html": [
       "<div>\n",
       "<style scoped>\n",
       "    .dataframe tbody tr th:only-of-type {\n",
       "        vertical-align: middle;\n",
       "    }\n",
       "\n",
       "    .dataframe tbody tr th {\n",
       "        vertical-align: top;\n",
       "    }\n",
       "\n",
       "    .dataframe thead th {\n",
       "        text-align: right;\n",
       "    }\n",
       "</style>\n",
       "<table border=\"1\" class=\"dataframe\">\n",
       "  <thead>\n",
       "    <tr style=\"text-align: right;\">\n",
       "      <th></th>\n",
       "      <th>Name</th>\n",
       "      <th>Age</th>\n",
       "      <th>City</th>\n",
       "      <th>Salary</th>\n",
       "    </tr>\n",
       "  </thead>\n",
       "  <tbody>\n",
       "    <tr>\n",
       "      <th>0</th>\n",
       "      <td>Cena</td>\n",
       "      <td>18</td>\n",
       "      <td>Pune</td>\n",
       "      <td>50000</td>\n",
       "    </tr>\n",
       "    <tr>\n",
       "      <th>1</th>\n",
       "      <td>Meena</td>\n",
       "      <td>19</td>\n",
       "      <td>Mumbai</td>\n",
       "      <td>55000</td>\n",
       "    </tr>\n",
       "    <tr>\n",
       "      <th>2</th>\n",
       "      <td>Teena</td>\n",
       "      <td>25</td>\n",
       "      <td>Nashik</td>\n",
       "      <td>60000</td>\n",
       "    </tr>\n",
       "    <tr>\n",
       "      <th>3</th>\n",
       "      <td>Reena</td>\n",
       "      <td>30</td>\n",
       "      <td>Satana</td>\n",
       "      <td>65000</td>\n",
       "    </tr>\n",
       "  </tbody>\n",
       "</table>\n",
       "</div>"
      ],
      "text/plain": [
       "    Name  Age    City  Salary\n",
       "0   Cena   18    Pune   50000\n",
       "1  Meena   19  Mumbai   55000\n",
       "2  Teena   25  Nashik   60000\n",
       "3  Reena   30  Satana   65000"
      ]
     },
     "execution_count": 109,
     "metadata": {},
     "output_type": "execute_result"
    }
   ],
   "source": [
    "df2"
   ]
  },
  {
   "cell_type": "code",
   "execution_count": 110,
   "id": "e82fa703-d2fb-4489-b700-b841a67af430",
   "metadata": {},
   "outputs": [
    {
     "data": {
      "text/plain": [
       "0     Cena\n",
       "1    Meena\n",
       "2    Teena\n",
       "3    Reena\n",
       "Name: Name, dtype: object"
      ]
     },
     "execution_count": 110,
     "metadata": {},
     "output_type": "execute_result"
    }
   ],
   "source": [
    "# For targeting of columns \n",
    "df2['Name']     "
   ]
  },
  {
   "cell_type": "code",
   "execution_count": 111,
   "id": "b8ac8eec-c64b-4d1f-86f6-d82b46d6a517",
   "metadata": {},
   "outputs": [
    {
     "data": {
      "text/html": [
       "<div>\n",
       "<style scoped>\n",
       "    .dataframe tbody tr th:only-of-type {\n",
       "        vertical-align: middle;\n",
       "    }\n",
       "\n",
       "    .dataframe tbody tr th {\n",
       "        vertical-align: top;\n",
       "    }\n",
       "\n",
       "    .dataframe thead th {\n",
       "        text-align: right;\n",
       "    }\n",
       "</style>\n",
       "<table border=\"1\" class=\"dataframe\">\n",
       "  <thead>\n",
       "    <tr style=\"text-align: right;\">\n",
       "      <th></th>\n",
       "      <th>Name</th>\n",
       "      <th>City</th>\n",
       "    </tr>\n",
       "  </thead>\n",
       "  <tbody>\n",
       "    <tr>\n",
       "      <th>0</th>\n",
       "      <td>Cena</td>\n",
       "      <td>Pune</td>\n",
       "    </tr>\n",
       "    <tr>\n",
       "      <th>1</th>\n",
       "      <td>Meena</td>\n",
       "      <td>Mumbai</td>\n",
       "    </tr>\n",
       "    <tr>\n",
       "      <th>2</th>\n",
       "      <td>Teena</td>\n",
       "      <td>Nashik</td>\n",
       "    </tr>\n",
       "    <tr>\n",
       "      <th>3</th>\n",
       "      <td>Reena</td>\n",
       "      <td>Satana</td>\n",
       "    </tr>\n",
       "  </tbody>\n",
       "</table>\n",
       "</div>"
      ],
      "text/plain": [
       "    Name    City\n",
       "0   Cena    Pune\n",
       "1  Meena  Mumbai\n",
       "2  Teena  Nashik\n",
       "3  Reena  Satana"
      ]
     },
     "execution_count": 111,
     "metadata": {},
     "output_type": "execute_result"
    }
   ],
   "source": [
    "# For targeting 2 columns, we have to provide list of list.\n",
    "df2[['Name', 'City']]"
   ]
  },
  {
   "cell_type": "code",
   "execution_count": 112,
   "id": "1acffb84-307c-4c9a-b621-f45857d0800b",
   "metadata": {},
   "outputs": [],
   "source": [
    "# Creating a New Column.\n",
    "df2['Designation'] = ['Doctor', 'Teacher', 'Eng.', 'Teacher']"
   ]
  },
  {
   "cell_type": "code",
   "execution_count": 61,
   "id": "73369679-55b0-4fed-a412-b075c007a068",
   "metadata": {},
   "outputs": [
    {
     "data": {
      "text/html": [
       "<div>\n",
       "<style scoped>\n",
       "    .dataframe tbody tr th:only-of-type {\n",
       "        vertical-align: middle;\n",
       "    }\n",
       "\n",
       "    .dataframe tbody tr th {\n",
       "        vertical-align: top;\n",
       "    }\n",
       "\n",
       "    .dataframe thead th {\n",
       "        text-align: right;\n",
       "    }\n",
       "</style>\n",
       "<table border=\"1\" class=\"dataframe\">\n",
       "  <thead>\n",
       "    <tr style=\"text-align: right;\">\n",
       "      <th></th>\n",
       "      <th>Name</th>\n",
       "      <th>Age</th>\n",
       "      <th>City</th>\n",
       "      <th>Salary</th>\n",
       "      <th>Designation</th>\n",
       "    </tr>\n",
       "  </thead>\n",
       "  <tbody>\n",
       "    <tr>\n",
       "      <th>0</th>\n",
       "      <td>Cena</td>\n",
       "      <td>18</td>\n",
       "      <td>Pune</td>\n",
       "      <td>50000</td>\n",
       "      <td>Doctor</td>\n",
       "    </tr>\n",
       "    <tr>\n",
       "      <th>1</th>\n",
       "      <td>Meena</td>\n",
       "      <td>19</td>\n",
       "      <td>Mumbai</td>\n",
       "      <td>55000</td>\n",
       "      <td>Teacher</td>\n",
       "    </tr>\n",
       "    <tr>\n",
       "      <th>2</th>\n",
       "      <td>Teena</td>\n",
       "      <td>25</td>\n",
       "      <td>Nashik</td>\n",
       "      <td>60000</td>\n",
       "      <td>Eng.</td>\n",
       "    </tr>\n",
       "    <tr>\n",
       "      <th>3</th>\n",
       "      <td>Reena</td>\n",
       "      <td>30</td>\n",
       "      <td>Satana</td>\n",
       "      <td>65000</td>\n",
       "      <td>Teacher</td>\n",
       "    </tr>\n",
       "  </tbody>\n",
       "</table>\n",
       "</div>"
      ],
      "text/plain": [
       "    Name  Age    City  Salary Designation\n",
       "0   Cena   18    Pune   50000      Doctor\n",
       "1  Meena   19  Mumbai   55000     Teacher\n",
       "2  Teena   25  Nashik   60000        Eng.\n",
       "3  Reena   30  Satana   65000     Teacher"
      ]
     },
     "execution_count": 61,
     "metadata": {},
     "output_type": "execute_result"
    }
   ],
   "source": [
    "df2\n"
   ]
  },
  {
   "cell_type": "code",
   "execution_count": 68,
   "id": "0a9d73a4-ed93-411e-8bf0-eb026d8a7161",
   "metadata": {},
   "outputs": [],
   "source": [
    "# Removing Columns."
   ]
  },
  {
   "cell_type": "code",
   "execution_count": 69,
   "id": "8604bd96-394d-41c2-93bb-8a50af0dda4f",
   "metadata": {},
   "outputs": [],
   "source": [
    "# Axis 0 runs vertically, along the rows.\n",
    "# axis=0 (or axis='index'): This is the default. It tells the function to operate down the rows. \n",
    "# For example, when you drop rows, you're operating on axis=0.\n",
    "\n",
    "\n",
    "# Axis 1 runs horizontally, along the columns.\n",
    "# axis=1 (or axis='columns'): This tells the function to operate across the columns. \n",
    "# For example, when you drop a column, you're operating on axis=1."
   ]
  },
  {
   "cell_type": "code",
   "execution_count": 113,
   "id": "1156c1cb-09ce-47bc-b3a8-56c2927b9520",
   "metadata": {},
   "outputs": [
    {
     "data": {
      "text/html": [
       "<div>\n",
       "<style scoped>\n",
       "    .dataframe tbody tr th:only-of-type {\n",
       "        vertical-align: middle;\n",
       "    }\n",
       "\n",
       "    .dataframe tbody tr th {\n",
       "        vertical-align: top;\n",
       "    }\n",
       "\n",
       "    .dataframe thead th {\n",
       "        text-align: right;\n",
       "    }\n",
       "</style>\n",
       "<table border=\"1\" class=\"dataframe\">\n",
       "  <thead>\n",
       "    <tr style=\"text-align: right;\">\n",
       "      <th></th>\n",
       "      <th>Name</th>\n",
       "      <th>Age</th>\n",
       "      <th>City</th>\n",
       "      <th>Salary</th>\n",
       "    </tr>\n",
       "  </thead>\n",
       "  <tbody>\n",
       "    <tr>\n",
       "      <th>0</th>\n",
       "      <td>Cena</td>\n",
       "      <td>18</td>\n",
       "      <td>Pune</td>\n",
       "      <td>50000</td>\n",
       "    </tr>\n",
       "    <tr>\n",
       "      <th>1</th>\n",
       "      <td>Meena</td>\n",
       "      <td>19</td>\n",
       "      <td>Mumbai</td>\n",
       "      <td>55000</td>\n",
       "    </tr>\n",
       "    <tr>\n",
       "      <th>2</th>\n",
       "      <td>Teena</td>\n",
       "      <td>25</td>\n",
       "      <td>Nashik</td>\n",
       "      <td>60000</td>\n",
       "    </tr>\n",
       "    <tr>\n",
       "      <th>3</th>\n",
       "      <td>Reena</td>\n",
       "      <td>30</td>\n",
       "      <td>Satana</td>\n",
       "      <td>65000</td>\n",
       "    </tr>\n",
       "  </tbody>\n",
       "</table>\n",
       "</div>"
      ],
      "text/plain": [
       "    Name  Age    City  Salary\n",
       "0   Cena   18    Pune   50000\n",
       "1  Meena   19  Mumbai   55000\n",
       "2  Teena   25  Nashik   60000\n",
       "3  Reena   30  Satana   65000"
      ]
     },
     "execution_count": 113,
     "metadata": {},
     "output_type": "execute_result"
    }
   ],
   "source": [
    "df2.drop('Designation',axis = 1)"
   ]
  },
  {
   "cell_type": "code",
   "execution_count": 114,
   "id": "170b125e-a616-4fb0-9288-937c1540f4e0",
   "metadata": {},
   "outputs": [
    {
     "data": {
      "text/html": [
       "<div>\n",
       "<style scoped>\n",
       "    .dataframe tbody tr th:only-of-type {\n",
       "        vertical-align: middle;\n",
       "    }\n",
       "\n",
       "    .dataframe tbody tr th {\n",
       "        vertical-align: top;\n",
       "    }\n",
       "\n",
       "    .dataframe thead th {\n",
       "        text-align: right;\n",
       "    }\n",
       "</style>\n",
       "<table border=\"1\" class=\"dataframe\">\n",
       "  <thead>\n",
       "    <tr style=\"text-align: right;\">\n",
       "      <th></th>\n",
       "      <th>Name</th>\n",
       "      <th>Age</th>\n",
       "      <th>City</th>\n",
       "      <th>Salary</th>\n",
       "      <th>Designation</th>\n",
       "    </tr>\n",
       "  </thead>\n",
       "  <tbody>\n",
       "    <tr>\n",
       "      <th>0</th>\n",
       "      <td>Cena</td>\n",
       "      <td>18</td>\n",
       "      <td>Pune</td>\n",
       "      <td>50000</td>\n",
       "      <td>Doctor</td>\n",
       "    </tr>\n",
       "    <tr>\n",
       "      <th>1</th>\n",
       "      <td>Meena</td>\n",
       "      <td>19</td>\n",
       "      <td>Mumbai</td>\n",
       "      <td>55000</td>\n",
       "      <td>Teacher</td>\n",
       "    </tr>\n",
       "    <tr>\n",
       "      <th>2</th>\n",
       "      <td>Teena</td>\n",
       "      <td>25</td>\n",
       "      <td>Nashik</td>\n",
       "      <td>60000</td>\n",
       "      <td>Eng.</td>\n",
       "    </tr>\n",
       "    <tr>\n",
       "      <th>3</th>\n",
       "      <td>Reena</td>\n",
       "      <td>30</td>\n",
       "      <td>Satana</td>\n",
       "      <td>65000</td>\n",
       "      <td>Teacher</td>\n",
       "    </tr>\n",
       "  </tbody>\n",
       "</table>\n",
       "</div>"
      ],
      "text/plain": [
       "    Name  Age    City  Salary Designation\n",
       "0   Cena   18    Pune   50000      Doctor\n",
       "1  Meena   19  Mumbai   55000     Teacher\n",
       "2  Teena   25  Nashik   60000        Eng.\n",
       "3  Reena   30  Satana   65000     Teacher"
      ]
     },
     "execution_count": 114,
     "metadata": {},
     "output_type": "execute_result"
    }
   ],
   "source": [
    "df2"
   ]
  },
  {
   "cell_type": "code",
   "execution_count": 49,
   "id": "ae751a9b-4b87-457f-af9d-9389a372a2c5",
   "metadata": {},
   "outputs": [],
   "source": [
    "# 'inplace' \n",
    "# 1--> inplace=False (Default): The method does not modify the original DataFrame.\n",
    "#      Instead, it returns a new DataFrame with the changes. The original DataFrame remains unchanged.\n",
    "#      This is generally the safer practice because it prevents accidental data loss.\n",
    "#\n",
    "# 2--> inplace=True: The method modifies the original DataFrame directly.\n",
    "#      It does not return a new DataFrame. If you use this, you don't need to re-assign\n",
    "#      the result to the DataFrame variable (e.g., you don't need df = df.drop(...))."
   ]
  },
  {
   "cell_type": "code",
   "execution_count": 115,
   "id": "1f041172-5905-47e3-9b13-ecb2faff2ab4",
   "metadata": {},
   "outputs": [
    {
     "data": {
      "text/html": [
       "<div>\n",
       "<style scoped>\n",
       "    .dataframe tbody tr th:only-of-type {\n",
       "        vertical-align: middle;\n",
       "    }\n",
       "\n",
       "    .dataframe tbody tr th {\n",
       "        vertical-align: top;\n",
       "    }\n",
       "\n",
       "    .dataframe thead th {\n",
       "        text-align: right;\n",
       "    }\n",
       "</style>\n",
       "<table border=\"1\" class=\"dataframe\">\n",
       "  <thead>\n",
       "    <tr style=\"text-align: right;\">\n",
       "      <th></th>\n",
       "      <th>Name</th>\n",
       "      <th>Age</th>\n",
       "      <th>City</th>\n",
       "      <th>Salary</th>\n",
       "    </tr>\n",
       "  </thead>\n",
       "  <tbody>\n",
       "    <tr>\n",
       "      <th>0</th>\n",
       "      <td>Cena</td>\n",
       "      <td>18</td>\n",
       "      <td>Pune</td>\n",
       "      <td>50000</td>\n",
       "    </tr>\n",
       "    <tr>\n",
       "      <th>1</th>\n",
       "      <td>Meena</td>\n",
       "      <td>19</td>\n",
       "      <td>Mumbai</td>\n",
       "      <td>55000</td>\n",
       "    </tr>\n",
       "    <tr>\n",
       "      <th>2</th>\n",
       "      <td>Teena</td>\n",
       "      <td>25</td>\n",
       "      <td>Nashik</td>\n",
       "      <td>60000</td>\n",
       "    </tr>\n",
       "    <tr>\n",
       "      <th>3</th>\n",
       "      <td>Reena</td>\n",
       "      <td>30</td>\n",
       "      <td>Satana</td>\n",
       "      <td>65000</td>\n",
       "    </tr>\n",
       "  </tbody>\n",
       "</table>\n",
       "</div>"
      ],
      "text/plain": [
       "    Name  Age    City  Salary\n",
       "0   Cena   18    Pune   50000\n",
       "1  Meena   19  Mumbai   55000\n",
       "2  Teena   25  Nashik   60000\n",
       "3  Reena   30  Satana   65000"
      ]
     },
     "execution_count": 115,
     "metadata": {},
     "output_type": "execute_result"
    }
   ],
   "source": [
    "df2.drop('Designation', axis=1, inplace= True)\n",
    "df2"
   ]
  },
  {
   "cell_type": "code",
   "execution_count": 116,
   "id": "76ba6272-29f6-48bb-9ad5-178ddb82d367",
   "metadata": {},
   "outputs": [
    {
     "data": {
      "text/html": [
       "<div>\n",
       "<style scoped>\n",
       "    .dataframe tbody tr th:only-of-type {\n",
       "        vertical-align: middle;\n",
       "    }\n",
       "\n",
       "    .dataframe tbody tr th {\n",
       "        vertical-align: top;\n",
       "    }\n",
       "\n",
       "    .dataframe thead th {\n",
       "        text-align: right;\n",
       "    }\n",
       "</style>\n",
       "<table border=\"1\" class=\"dataframe\">\n",
       "  <thead>\n",
       "    <tr style=\"text-align: right;\">\n",
       "      <th></th>\n",
       "      <th>Age</th>\n",
       "      <th>Salary</th>\n",
       "    </tr>\n",
       "  </thead>\n",
       "  <tbody>\n",
       "    <tr>\n",
       "      <th>0</th>\n",
       "      <td>18</td>\n",
       "      <td>50000</td>\n",
       "    </tr>\n",
       "    <tr>\n",
       "      <th>1</th>\n",
       "      <td>19</td>\n",
       "      <td>55000</td>\n",
       "    </tr>\n",
       "    <tr>\n",
       "      <th>2</th>\n",
       "      <td>25</td>\n",
       "      <td>60000</td>\n",
       "    </tr>\n",
       "    <tr>\n",
       "      <th>3</th>\n",
       "      <td>30</td>\n",
       "      <td>65000</td>\n",
       "    </tr>\n",
       "  </tbody>\n",
       "</table>\n",
       "</div>"
      ],
      "text/plain": [
       "   Age  Salary\n",
       "0   18   50000\n",
       "1   19   55000\n",
       "2   25   60000\n",
       "3   30   65000"
      ]
     },
     "execution_count": 116,
     "metadata": {},
     "output_type": "execute_result"
    }
   ],
   "source": [
    "# remove columns \n",
    "df2.drop(['City', 'Name'],axis = 1)"
   ]
  },
  {
   "cell_type": "code",
   "execution_count": 117,
   "id": "4a9ee2d2-a442-4092-ab1b-45152b688a01",
   "metadata": {},
   "outputs": [
    {
     "data": {
      "text/html": [
       "<div>\n",
       "<style scoped>\n",
       "    .dataframe tbody tr th:only-of-type {\n",
       "        vertical-align: middle;\n",
       "    }\n",
       "\n",
       "    .dataframe tbody tr th {\n",
       "        vertical-align: top;\n",
       "    }\n",
       "\n",
       "    .dataframe thead th {\n",
       "        text-align: right;\n",
       "    }\n",
       "</style>\n",
       "<table border=\"1\" class=\"dataframe\">\n",
       "  <thead>\n",
       "    <tr style=\"text-align: right;\">\n",
       "      <th></th>\n",
       "      <th>Name</th>\n",
       "      <th>Age</th>\n",
       "      <th>City</th>\n",
       "      <th>Salary</th>\n",
       "    </tr>\n",
       "  </thead>\n",
       "  <tbody>\n",
       "    <tr>\n",
       "      <th>0</th>\n",
       "      <td>Cena</td>\n",
       "      <td>18</td>\n",
       "      <td>Pune</td>\n",
       "      <td>50000</td>\n",
       "    </tr>\n",
       "    <tr>\n",
       "      <th>1</th>\n",
       "      <td>Meena</td>\n",
       "      <td>19</td>\n",
       "      <td>Mumbai</td>\n",
       "      <td>55000</td>\n",
       "    </tr>\n",
       "    <tr>\n",
       "      <th>3</th>\n",
       "      <td>Reena</td>\n",
       "      <td>30</td>\n",
       "      <td>Satana</td>\n",
       "      <td>65000</td>\n",
       "    </tr>\n",
       "  </tbody>\n",
       "</table>\n",
       "</div>"
      ],
      "text/plain": [
       "    Name  Age    City  Salary\n",
       "0   Cena   18    Pune   50000\n",
       "1  Meena   19  Mumbai   55000\n",
       "3  Reena   30  Satana   65000"
      ]
     },
     "execution_count": 117,
     "metadata": {},
     "output_type": "execute_result"
    }
   ],
   "source": [
    "# remove rows\n",
    "df2.drop(2,axis = 0)"
   ]
  },
  {
   "cell_type": "code",
   "execution_count": 79,
   "id": "692d980e-7c0d-4138-a4cd-90630ac1a0c4",
   "metadata": {},
   "outputs": [],
   "source": [
    "# Selecting Rows"
   ]
  },
  {
   "cell_type": "code",
   "execution_count": 118,
   "id": "82750cbe-2451-4847-9532-877daf5ae837",
   "metadata": {},
   "outputs": [
    {
     "data": {
      "text/html": [
       "<div>\n",
       "<style scoped>\n",
       "    .dataframe tbody tr th:only-of-type {\n",
       "        vertical-align: middle;\n",
       "    }\n",
       "\n",
       "    .dataframe tbody tr th {\n",
       "        vertical-align: top;\n",
       "    }\n",
       "\n",
       "    .dataframe thead th {\n",
       "        text-align: right;\n",
       "    }\n",
       "</style>\n",
       "<table border=\"1\" class=\"dataframe\">\n",
       "  <thead>\n",
       "    <tr style=\"text-align: right;\">\n",
       "      <th></th>\n",
       "      <th>Name</th>\n",
       "      <th>Age</th>\n",
       "      <th>City</th>\n",
       "      <th>Salary</th>\n",
       "    </tr>\n",
       "  </thead>\n",
       "  <tbody>\n",
       "    <tr>\n",
       "      <th>0</th>\n",
       "      <td>Cena</td>\n",
       "      <td>18</td>\n",
       "      <td>Pune</td>\n",
       "      <td>50000</td>\n",
       "    </tr>\n",
       "    <tr>\n",
       "      <th>1</th>\n",
       "      <td>Meena</td>\n",
       "      <td>19</td>\n",
       "      <td>Mumbai</td>\n",
       "      <td>55000</td>\n",
       "    </tr>\n",
       "    <tr>\n",
       "      <th>2</th>\n",
       "      <td>Teena</td>\n",
       "      <td>25</td>\n",
       "      <td>Nashik</td>\n",
       "      <td>60000</td>\n",
       "    </tr>\n",
       "    <tr>\n",
       "      <th>3</th>\n",
       "      <td>Reena</td>\n",
       "      <td>30</td>\n",
       "      <td>Satana</td>\n",
       "      <td>65000</td>\n",
       "    </tr>\n",
       "  </tbody>\n",
       "</table>\n",
       "</div>"
      ],
      "text/plain": [
       "    Name  Age    City  Salary\n",
       "0   Cena   18    Pune   50000\n",
       "1  Meena   19  Mumbai   55000\n",
       "2  Teena   25  Nashik   60000\n",
       "3  Reena   30  Satana   65000"
      ]
     },
     "execution_count": 118,
     "metadata": {},
     "output_type": "execute_result"
    }
   ],
   "source": [
    "df2"
   ]
  },
  {
   "cell_type": "code",
   "execution_count": 119,
   "id": "5c92cc72-1a87-4086-9fb7-b7b1341da0a4",
   "metadata": {},
   "outputs": [
    {
     "data": {
      "text/plain": [
       "Name       Cena\n",
       "Age          18\n",
       "City       Pune\n",
       "Salary    50000\n",
       "Name: 0, dtype: object"
      ]
     },
     "execution_count": 119,
     "metadata": {},
     "output_type": "execute_result"
    }
   ],
   "source": [
    "# for selecting rows we can use 'loc'\n",
    "df2.loc[0]"
   ]
  },
  {
   "cell_type": "code",
   "execution_count": 120,
   "id": "316a2ec8-7d4f-4a3e-a98f-ba361f7ce436",
   "metadata": {},
   "outputs": [
    {
     "data": {
      "text/html": [
       "<div>\n",
       "<style scoped>\n",
       "    .dataframe tbody tr th:only-of-type {\n",
       "        vertical-align: middle;\n",
       "    }\n",
       "\n",
       "    .dataframe tbody tr th {\n",
       "        vertical-align: top;\n",
       "    }\n",
       "\n",
       "    .dataframe thead th {\n",
       "        text-align: right;\n",
       "    }\n",
       "</style>\n",
       "<table border=\"1\" class=\"dataframe\">\n",
       "  <thead>\n",
       "    <tr style=\"text-align: right;\">\n",
       "      <th></th>\n",
       "      <th>Name</th>\n",
       "      <th>Age</th>\n",
       "      <th>City</th>\n",
       "      <th>Salary</th>\n",
       "    </tr>\n",
       "  </thead>\n",
       "  <tbody>\n",
       "    <tr>\n",
       "      <th>0</th>\n",
       "      <td>Cena</td>\n",
       "      <td>18</td>\n",
       "      <td>Pune</td>\n",
       "      <td>50000</td>\n",
       "    </tr>\n",
       "    <tr>\n",
       "      <th>3</th>\n",
       "      <td>Reena</td>\n",
       "      <td>30</td>\n",
       "      <td>Satana</td>\n",
       "      <td>65000</td>\n",
       "    </tr>\n",
       "  </tbody>\n",
       "</table>\n",
       "</div>"
      ],
      "text/plain": [
       "    Name  Age    City  Salary\n",
       "0   Cena   18    Pune   50000\n",
       "3  Reena   30  Satana   65000"
      ]
     },
     "execution_count": 120,
     "metadata": {},
     "output_type": "execute_result"
    }
   ],
   "source": [
    "df2.loc[[0,3]]"
   ]
  },
  {
   "cell_type": "code",
   "execution_count": 89,
   "id": "17a31c5c-34a5-4aa7-87ed-efebb42f50b1",
   "metadata": {},
   "outputs": [],
   "source": [
    "# Selecting Subset of rows and columns\n",
    "\n",
    "# In selecting always first select rows and then select columns."
   ]
  },
  {
   "cell_type": "code",
   "execution_count": 123,
   "id": "217ca01e-c6ed-4cdb-aadd-6f5cdb985206",
   "metadata": {},
   "outputs": [
    {
     "data": {
      "text/html": [
       "<div>\n",
       "<style scoped>\n",
       "    .dataframe tbody tr th:only-of-type {\n",
       "        vertical-align: middle;\n",
       "    }\n",
       "\n",
       "    .dataframe tbody tr th {\n",
       "        vertical-align: top;\n",
       "    }\n",
       "\n",
       "    .dataframe thead th {\n",
       "        text-align: right;\n",
       "    }\n",
       "</style>\n",
       "<table border=\"1\" class=\"dataframe\">\n",
       "  <thead>\n",
       "    <tr style=\"text-align: right;\">\n",
       "      <th></th>\n",
       "      <th>City</th>\n",
       "      <th>Salary</th>\n",
       "    </tr>\n",
       "  </thead>\n",
       "  <tbody>\n",
       "    <tr>\n",
       "      <th>0</th>\n",
       "      <td>Pune</td>\n",
       "      <td>50000</td>\n",
       "    </tr>\n",
       "    <tr>\n",
       "      <th>1</th>\n",
       "      <td>Mumbai</td>\n",
       "      <td>55000</td>\n",
       "    </tr>\n",
       "  </tbody>\n",
       "</table>\n",
       "</div>"
      ],
      "text/plain": [
       "     City  Salary\n",
       "0    Pune   50000\n",
       "1  Mumbai   55000"
      ]
     },
     "execution_count": 123,
     "metadata": {},
     "output_type": "execute_result"
    }
   ],
   "source": [
    "df.loc[[0,1]][['City', 'Salary']]"
   ]
  },
  {
   "cell_type": "code",
   "execution_count": 91,
   "id": "ae82b030-5277-4c47-86ae-b626a18c3f6e",
   "metadata": {},
   "outputs": [],
   "source": [
    "# Conditional Selection"
   ]
  },
  {
   "cell_type": "code",
   "execution_count": 124,
   "id": "c9f22f2f-ce1b-4550-bb60-fa81624272dd",
   "metadata": {},
   "outputs": [
    {
     "data": {
      "text/html": [
       "<div>\n",
       "<style scoped>\n",
       "    .dataframe tbody tr th:only-of-type {\n",
       "        vertical-align: middle;\n",
       "    }\n",
       "\n",
       "    .dataframe tbody tr th {\n",
       "        vertical-align: top;\n",
       "    }\n",
       "\n",
       "    .dataframe thead th {\n",
       "        text-align: right;\n",
       "    }\n",
       "</style>\n",
       "<table border=\"1\" class=\"dataframe\">\n",
       "  <thead>\n",
       "    <tr style=\"text-align: right;\">\n",
       "      <th></th>\n",
       "      <th>Name</th>\n",
       "      <th>Age</th>\n",
       "      <th>City</th>\n",
       "      <th>Salary</th>\n",
       "    </tr>\n",
       "  </thead>\n",
       "  <tbody>\n",
       "    <tr>\n",
       "      <th>0</th>\n",
       "      <td>Cena</td>\n",
       "      <td>18</td>\n",
       "      <td>Pune</td>\n",
       "      <td>50000</td>\n",
       "    </tr>\n",
       "    <tr>\n",
       "      <th>1</th>\n",
       "      <td>Meena</td>\n",
       "      <td>19</td>\n",
       "      <td>Mumbai</td>\n",
       "      <td>55000</td>\n",
       "    </tr>\n",
       "    <tr>\n",
       "      <th>2</th>\n",
       "      <td>Teena</td>\n",
       "      <td>25</td>\n",
       "      <td>Nashik</td>\n",
       "      <td>60000</td>\n",
       "    </tr>\n",
       "    <tr>\n",
       "      <th>3</th>\n",
       "      <td>Reena</td>\n",
       "      <td>30</td>\n",
       "      <td>Satana</td>\n",
       "      <td>65000</td>\n",
       "    </tr>\n",
       "  </tbody>\n",
       "</table>\n",
       "</div>"
      ],
      "text/plain": [
       "    Name  Age    City  Salary\n",
       "0   Cena   18    Pune   50000\n",
       "1  Meena   19  Mumbai   55000\n",
       "2  Teena   25  Nashik   60000\n",
       "3  Reena   30  Satana   65000"
      ]
     },
     "execution_count": 124,
     "metadata": {},
     "output_type": "execute_result"
    }
   ],
   "source": [
    "df2"
   ]
  },
  {
   "cell_type": "code",
   "execution_count": 129,
   "id": "f6c738eb-5a06-41da-9c3d-1af0b83de7bb",
   "metadata": {},
   "outputs": [
    {
     "data": {
      "text/html": [
       "<div>\n",
       "<style scoped>\n",
       "    .dataframe tbody tr th:only-of-type {\n",
       "        vertical-align: middle;\n",
       "    }\n",
       "\n",
       "    .dataframe tbody tr th {\n",
       "        vertical-align: top;\n",
       "    }\n",
       "\n",
       "    .dataframe thead th {\n",
       "        text-align: right;\n",
       "    }\n",
       "</style>\n",
       "<table border=\"1\" class=\"dataframe\">\n",
       "  <thead>\n",
       "    <tr style=\"text-align: right;\">\n",
       "      <th></th>\n",
       "      <th>Name</th>\n",
       "      <th>Age</th>\n",
       "      <th>City</th>\n",
       "      <th>Salary</th>\n",
       "    </tr>\n",
       "  </thead>\n",
       "  <tbody>\n",
       "    <tr>\n",
       "      <th>2</th>\n",
       "      <td>Teena</td>\n",
       "      <td>25</td>\n",
       "      <td>Nashik</td>\n",
       "      <td>60000</td>\n",
       "    </tr>\n",
       "    <tr>\n",
       "      <th>3</th>\n",
       "      <td>Reena</td>\n",
       "      <td>30</td>\n",
       "      <td>Satana</td>\n",
       "      <td>65000</td>\n",
       "    </tr>\n",
       "  </tbody>\n",
       "</table>\n",
       "</div>"
      ],
      "text/plain": [
       "    Name  Age    City  Salary\n",
       "2  Teena   25  Nashik   60000\n",
       "3  Reena   30  Satana   65000"
      ]
     },
     "execution_count": 129,
     "metadata": {},
     "output_type": "execute_result"
    }
   ],
   "source": [
    "# i only want to see those people whose age is above 24\n",
    "df2[df2['Age'] > 24]"
   ]
  },
  {
   "cell_type": "code",
   "execution_count": 130,
   "id": "45e3da6a-31cb-4311-a539-9ae77b0fb3d9",
   "metadata": {},
   "outputs": [
    {
     "data": {
      "text/html": [
       "<div>\n",
       "<style scoped>\n",
       "    .dataframe tbody tr th:only-of-type {\n",
       "        vertical-align: middle;\n",
       "    }\n",
       "\n",
       "    .dataframe tbody tr th {\n",
       "        vertical-align: top;\n",
       "    }\n",
       "\n",
       "    .dataframe thead th {\n",
       "        text-align: right;\n",
       "    }\n",
       "</style>\n",
       "<table border=\"1\" class=\"dataframe\">\n",
       "  <thead>\n",
       "    <tr style=\"text-align: right;\">\n",
       "      <th></th>\n",
       "      <th>Name</th>\n",
       "      <th>Age</th>\n",
       "      <th>City</th>\n",
       "      <th>Salary</th>\n",
       "    </tr>\n",
       "  </thead>\n",
       "  <tbody>\n",
       "    <tr>\n",
       "      <th>3</th>\n",
       "      <td>Reena</td>\n",
       "      <td>30</td>\n",
       "      <td>Satana</td>\n",
       "      <td>65000</td>\n",
       "    </tr>\n",
       "  </tbody>\n",
       "</table>\n",
       "</div>"
      ],
      "text/plain": [
       "    Name  Age    City  Salary\n",
       "3  Reena   30  Satana   65000"
      ]
     },
     "execution_count": 130,
     "metadata": {},
     "output_type": "execute_result"
    }
   ],
   "source": [
    "# i only want people whose age is above 24 and their city must be Satana\n",
    "df2[(df2['Age'] > 24) & (df2['City'] == 'Satana')]"
   ]
  }
 ],
 "metadata": {
  "kernelspec": {
   "display_name": "Python [conda env:base] *",
   "language": "python",
   "name": "conda-base-py"
  },
  "language_info": {
   "codemirror_mode": {
    "name": "ipython",
    "version": 3
   },
   "file_extension": ".py",
   "mimetype": "text/x-python",
   "name": "python",
   "nbconvert_exporter": "python",
   "pygments_lexer": "ipython3",
   "version": "3.13.5"
  }
 },
 "nbformat": 4,
 "nbformat_minor": 5
}
