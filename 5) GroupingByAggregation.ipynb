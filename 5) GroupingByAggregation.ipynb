{
 "cells": [
  {
   "cell_type": "code",
   "execution_count": 2,
   "id": "556c670f-83ab-479b-a9c4-5de78c10c7e2",
   "metadata": {},
   "outputs": [],
   "source": [
    "import pandas as pd\n",
    "import numpy as np"
   ]
  },
  {
   "cell_type": "code",
   "execution_count": 20,
   "id": "25ad7579-b496-44b1-a6ac-a5e3c2929baa",
   "metadata": {},
   "outputs": [],
   "source": [
    "data = {\n",
    "    'Category' : ['A', 'B', 'A', 'B', 'A', 'B', 'A', 'B'],\n",
    "    'Store' : ['S1', 'S2', 'S1', 'S2', 'S1', 'S2', 'S2', 'S1'],\n",
    "    'Sales' : [140, 150, 169, 160, 185, 200, 120, 169],\n",
    "    'Quantity' : [10, 25,30, 39, 49, 50, 60, 76],\n",
    "    'Date' : pd.date_range('2024-05-05',periods = 8)\n",
    "}\n",
    "df = pd.DataFrame(data)"
   ]
  },
  {
   "cell_type": "code",
   "execution_count": 21,
   "id": "2f47b364-12fc-47c4-8333-9aa00a217e6a",
   "metadata": {},
   "outputs": [
    {
     "data": {
      "text/html": [
       "<div>\n",
       "<style scoped>\n",
       "    .dataframe tbody tr th:only-of-type {\n",
       "        vertical-align: middle;\n",
       "    }\n",
       "\n",
       "    .dataframe tbody tr th {\n",
       "        vertical-align: top;\n",
       "    }\n",
       "\n",
       "    .dataframe thead th {\n",
       "        text-align: right;\n",
       "    }\n",
       "</style>\n",
       "<table border=\"1\" class=\"dataframe\">\n",
       "  <thead>\n",
       "    <tr style=\"text-align: right;\">\n",
       "      <th></th>\n",
       "      <th>Category</th>\n",
       "      <th>Store</th>\n",
       "      <th>Sales</th>\n",
       "      <th>Quantity</th>\n",
       "      <th>Date</th>\n",
       "    </tr>\n",
       "  </thead>\n",
       "  <tbody>\n",
       "    <tr>\n",
       "      <th>0</th>\n",
       "      <td>A</td>\n",
       "      <td>S1</td>\n",
       "      <td>140</td>\n",
       "      <td>10</td>\n",
       "      <td>2024-05-05</td>\n",
       "    </tr>\n",
       "    <tr>\n",
       "      <th>1</th>\n",
       "      <td>B</td>\n",
       "      <td>S2</td>\n",
       "      <td>150</td>\n",
       "      <td>25</td>\n",
       "      <td>2024-05-06</td>\n",
       "    </tr>\n",
       "    <tr>\n",
       "      <th>2</th>\n",
       "      <td>A</td>\n",
       "      <td>S1</td>\n",
       "      <td>169</td>\n",
       "      <td>30</td>\n",
       "      <td>2024-05-07</td>\n",
       "    </tr>\n",
       "    <tr>\n",
       "      <th>3</th>\n",
       "      <td>B</td>\n",
       "      <td>S2</td>\n",
       "      <td>160</td>\n",
       "      <td>39</td>\n",
       "      <td>2024-05-08</td>\n",
       "    </tr>\n",
       "    <tr>\n",
       "      <th>4</th>\n",
       "      <td>A</td>\n",
       "      <td>S1</td>\n",
       "      <td>185</td>\n",
       "      <td>49</td>\n",
       "      <td>2024-05-09</td>\n",
       "    </tr>\n",
       "    <tr>\n",
       "      <th>5</th>\n",
       "      <td>B</td>\n",
       "      <td>S2</td>\n",
       "      <td>200</td>\n",
       "      <td>50</td>\n",
       "      <td>2024-05-10</td>\n",
       "    </tr>\n",
       "    <tr>\n",
       "      <th>6</th>\n",
       "      <td>A</td>\n",
       "      <td>S2</td>\n",
       "      <td>120</td>\n",
       "      <td>60</td>\n",
       "      <td>2024-05-11</td>\n",
       "    </tr>\n",
       "    <tr>\n",
       "      <th>7</th>\n",
       "      <td>B</td>\n",
       "      <td>S1</td>\n",
       "      <td>169</td>\n",
       "      <td>76</td>\n",
       "      <td>2024-05-12</td>\n",
       "    </tr>\n",
       "  </tbody>\n",
       "</table>\n",
       "</div>"
      ],
      "text/plain": [
       "  Category Store  Sales  Quantity       Date\n",
       "0        A    S1    140        10 2024-05-05\n",
       "1        B    S2    150        25 2024-05-06\n",
       "2        A    S1    169        30 2024-05-07\n",
       "3        B    S2    160        39 2024-05-08\n",
       "4        A    S1    185        49 2024-05-09\n",
       "5        B    S2    200        50 2024-05-10\n",
       "6        A    S2    120        60 2024-05-11\n",
       "7        B    S1    169        76 2024-05-12"
      ]
     },
     "execution_count": 21,
     "metadata": {},
     "output_type": "execute_result"
    }
   ],
   "source": [
    "df"
   ]
  },
  {
   "cell_type": "code",
   "execution_count": 22,
   "id": "2b6210bb-9532-44b7-b907-4d6a565882b5",
   "metadata": {},
   "outputs": [
    {
     "data": {
      "text/plain": [
       "Category\n",
       "A    614\n",
       "B    679\n",
       "Name: Sales, dtype: int64"
      ]
     },
     "execution_count": 22,
     "metadata": {},
     "output_type": "execute_result"
    }
   ],
   "source": [
    "# Group by category and Calculate the sum of sales\n",
    "cat = df.groupby('Category')['Sales'].sum()\n",
    "cat"
   ]
  },
  {
   "cell_type": "code",
   "execution_count": 23,
   "id": "3e8c5cf1-3c26-4b08-818f-ab9a94648c09",
   "metadata": {},
   "outputs": [
    {
     "data": {
      "text/plain": [
       "Store\n",
       "S1    663\n",
       "S2    630\n",
       "Name: Sales, dtype: int64"
      ]
     },
     "execution_count": 23,
     "metadata": {},
     "output_type": "execute_result"
    }
   ],
   "source": [
    "# Group n=by Stores and Calucate the sum of sales\n",
    "cat = df.groupby('Store')['Sales'].sum()\n",
    "cat"
   ]
  },
  {
   "cell_type": "code",
   "execution_count": 25,
   "id": "c99f3905-88ab-4acd-9b46-d7173b6de440",
   "metadata": {},
   "outputs": [
    {
     "data": {
      "text/plain": [
       "Category  Store\n",
       "A         S1       494\n",
       "          S2       120\n",
       "B         S1       169\n",
       "          S2       510\n",
       "Name: Sales, dtype: int64"
      ]
     },
     "execution_count": 25,
     "metadata": {},
     "output_type": "execute_result"
    }
   ],
   "source": [
    "# Group by multiple column\n",
    "# Group by category and store\n",
    "cat = df.groupby(['Category', 'Store'])['Sales'].sum()\n",
    "cat"
   ]
  },
  {
   "cell_type": "code",
   "execution_count": 26,
   "id": "f6d0656b-1e56-4479-864d-c6e24409515b",
   "metadata": {},
   "outputs": [],
   "source": [
    "# Aggregation\n",
    "# mean,meadian,mode,min.,max., count, std"
   ]
  },
  {
   "cell_type": "code",
   "execution_count": 27,
   "id": "80e59df3-bd95-4515-adfd-075717ddec4d",
   "metadata": {},
   "outputs": [
    {
     "data": {
      "text/plain": [
       "np.float64(161.625)"
      ]
     },
     "execution_count": 27,
     "metadata": {},
     "output_type": "execute_result"
    }
   ],
   "source": [
    "df['Sales'].mean()"
   ]
  },
  {
   "cell_type": "code",
   "execution_count": 29,
   "id": "d4901fad-6ca5-4fd4-a2d7-20c7525dbc1d",
   "metadata": {},
   "outputs": [],
   "source": [
    "# Multiple Aggregation .agg()"
   ]
  },
  {
   "cell_type": "code",
   "execution_count": 34,
   "id": "49a34dd8-d127-45c6-a638-8150d7a5c7e5",
   "metadata": {},
   "outputs": [
    {
     "data": {
      "text/plain": [
       "sum       1293.000000\n",
       "mean       161.625000\n",
       "min        120.000000\n",
       "max        200.000000\n",
       "count        8.000000\n",
       "std         25.258308\n",
       "median     164.500000\n",
       "Name: Sales, dtype: float64"
      ]
     },
     "execution_count": 34,
     "metadata": {},
     "output_type": "execute_result"
    }
   ],
   "source": [
    "df['Sales'].agg(['sum', 'mean', 'min', 'max', 'count', 'std', 'median'])"
   ]
  }
 ],
 "metadata": {
  "kernelspec": {
   "display_name": "Python [conda env:base] *",
   "language": "python",
   "name": "conda-base-py"
  },
  "language_info": {
   "codemirror_mode": {
    "name": "ipython",
    "version": 3
   },
   "file_extension": ".py",
   "mimetype": "text/x-python",
   "name": "python",
   "nbconvert_exporter": "python",
   "pygments_lexer": "ipython3",
   "version": "3.13.5"
  }
 },
 "nbformat": 4,
 "nbformat_minor": 5
}
