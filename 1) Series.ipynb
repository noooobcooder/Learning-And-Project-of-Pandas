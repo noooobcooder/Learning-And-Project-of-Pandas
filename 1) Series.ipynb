{
 "cells": [
  {
   "cell_type": "code",
   "execution_count": 8,
   "id": "78c5a956-8ee9-4712-a16d-395cb09339ae",
   "metadata": {
    "scrolled": true
   },
   "outputs": [],
   "source": [
    "#creating Series\n",
    "# There is a multiple ways to create a Pandas Series\n",
    "# A Pandas Series is a one-dimensional data structure, much like a single column in an Excel spreadsheet.\n",
    "#Think of it as a list of data points (like numbers or names) that has a corresponding label for each item, called an index.\n",
    "\n",
    "# Its main purpose is to store a single column of data efficiently.\n",
    "#A key feature is its ability to perform fast mathematical and logical operations on all data points at once."
   ]
  },
  {
   "cell_type": "code",
   "execution_count": 3,
   "id": "dfc3b253-d59e-4fc9-ba64-0e259860a748",
   "metadata": {},
   "outputs": [],
   "source": [
    "import numpy as np\n",
    "import pandas as pd"
   ]
  },
  {
   "cell_type": "code",
   "execution_count": 9,
   "id": "3ce9befb-a4c7-4d71-b1c0-2c4f2c260757",
   "metadata": {},
   "outputs": [],
   "source": [
    "labels = ['a', 'b', 'c']\n",
    "my_list = [10, 20, 30]\n",
    "arr = np.array([10, 20, 30])\n",
    "d = {1:10, 2:20, 3:30}"
   ]
  },
  {
   "cell_type": "code",
   "execution_count": 13,
   "id": "af8cca51-0099-4059-88a6-4ffcd95fc733",
   "metadata": {},
   "outputs": [
    {
     "data": {
      "text/plain": [
       "0    10\n",
       "1    20\n",
       "2    30\n",
       "dtype: int64"
      ]
     },
     "execution_count": 13,
     "metadata": {},
     "output_type": "execute_result"
    }
   ],
   "source": [
    "pd.Series(my_list)"
   ]
  },
  {
   "cell_type": "code",
   "execution_count": 15,
   "id": "e385436c-645b-4c77-b05e-2c4f64d78c20",
   "metadata": {},
   "outputs": [
    {
     "data": {
      "text/plain": [
       "a    10\n",
       "b    20\n",
       "c    30\n",
       "dtype: int64"
      ]
     },
     "execution_count": 15,
     "metadata": {},
     "output_type": "execute_result"
    }
   ],
   "source": [
    "pd.Series(my_list, index=labels)"
   ]
  },
  {
   "cell_type": "code",
   "execution_count": 14,
   "id": "0b594a9f-9ffc-4b0b-ad44-6b526aacb99a",
   "metadata": {},
   "outputs": [
    {
     "data": {
      "text/plain": [
       "0    10\n",
       "1    20\n",
       "2    30\n",
       "dtype: int64"
      ]
     },
     "execution_count": 14,
     "metadata": {},
     "output_type": "execute_result"
    }
   ],
   "source": [
    "pd.Series(arr)"
   ]
  },
  {
   "cell_type": "code",
   "execution_count": 17,
   "id": "c457b7fa-8ee5-43ac-bc44-4fdf3c8429ef",
   "metadata": {},
   "outputs": [
    {
     "data": {
      "text/plain": [
       "1    10\n",
       "2    20\n",
       "3    30\n",
       "dtype: int64"
      ]
     },
     "execution_count": 17,
     "metadata": {},
     "output_type": "execute_result"
    }
   ],
   "source": [
    "pd.Series(d)"
   ]
  }
 ],
 "metadata": {
  "kernelspec": {
   "display_name": "Python [conda env:base] *",
   "language": "python",
   "name": "conda-base-py"
  },
  "language_info": {
   "codemirror_mode": {
    "name": "ipython",
    "version": 3
   },
   "file_extension": ".py",
   "mimetype": "text/x-python",
   "name": "python",
   "nbconvert_exporter": "python",
   "pygments_lexer": "ipython3",
   "version": "3.13.5"
  }
 },
 "nbformat": 4,
 "nbformat_minor": 5
}
